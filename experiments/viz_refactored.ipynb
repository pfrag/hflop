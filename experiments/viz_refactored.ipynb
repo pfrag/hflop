{
 "cells": [
  {
   "cell_type": "code",
   "id": "initial_id",
   "metadata": {
    "collapsed": true,
    "ExecuteTime": {
     "end_time": "2024-06-10T11:33:36.561731Z",
     "start_time": "2024-06-10T11:33:36.558331Z"
    }
   },
   "source": [
    "from pathlib import Path\n",
    "import numpy as np\n",
    "import pandas as pd\n",
    "import seaborn as sns\n",
    "\n",
    "data_root = Path(\"./results\")\n",
    "hflop_root = data_root / \"hflop\"\n",
    "hier_root = data_root / \"hier\"\n",
    "flat_root = data_root / \"non_hier\"\n",
    "\n",
    "assert hflop_root.is_dir() and hier_root.is_dir() and flat_root.is_dir()"
   ],
   "outputs": [],
   "execution_count": 77
  },
  {
   "metadata": {
    "ExecuteTime": {
     "end_time": "2024-06-10T11:33:36.598414Z",
     "start_time": "2024-06-10T11:33:36.563298Z"
    }
   },
   "cell_type": "code",
   "source": [
    "calcs_hflop = pd.read_csv(hflop_root / \"calculations.txt\", header=None)\n",
    "latencies_hflop = pd.read_csv(hflop_root / \"latencies.txt\", header=None)\n",
    "calcs_hflop = calcs_hflop * 1\n",
    "speedups = np.linspace(0, 95, 21)\n",
    "df_hflop = pd.DataFrame([(s, val[0]) for s in speedups for val in calcs_hflop.to_numpy()], columns=['speedup', 'value'])\n",
    "\n",
    "latencies_rep = np.tile(latencies_hflop.values.reshape(-1), len(speedups))\n",
    "df_hflop[\"e2e\"] = df_hflop[\"value\"] + latencies_rep \n",
    "print(len(df_hflop))"
   ],
   "id": "bac2a990d36cf506",
   "outputs": [
    {
     "name": "stdout",
     "output_type": "stream",
     "text": [
      "42000\n"
     ]
    }
   ],
   "execution_count": 78
  },
  {
   "cell_type": "code",
   "source": [
    "speedups = np.linspace(0, 95, 21)\n",
    "print(speedups)\n",
    "\n",
    "calcs_hier = pd.read_csv(hier_root / \"calculations.txt\", header=None)\n",
    "latencies_hier = pd.read_csv(hier_root / \"latencies.txt\", header=None)\n",
    "calcs_hier = calcs_hier * 1\n",
    "# gp1 clients have speed ups\n",
    "latencies_gp1 = latencies_hier[latencies_hier[0] > 0.01]\n",
    "calcs_gp1 = calcs_hier.loc[latencies_gp1.index]\n",
    "latencies_gp2 = latencies_hier[latencies_hier[0] <= 0.01]\n",
    "calcs_gp2 = calcs_hier.loc[latencies_gp2.index]\n",
    "\n",
    "# apply speedup for the two client\n",
    "df_hier_gp1 = pd.DataFrame([(s, val[0] * (1 - (s / 100.))) for s in speedups for val in calcs_gp1.to_numpy()], columns=['speedup', 'value'])\n",
    "\n",
    "# \"static\" 0 speedup for other clients\n",
    "df_hier_gp2 = pd.DataFrame([(s, val[0]) for s in speedups for val in calcs_gp2.to_numpy()], columns=['speedup', 'value'])\n",
    "\n",
    "latencies_gp1_rep = np.tile(latencies_gp1.values.reshape(-1), len(speedups))\n",
    "latencies_gp2_rep = np.tile(latencies_gp2.values.reshape(-1), len(speedups))\n",
    "\n",
    "df_hier_gp1[\"e2e\"] = df_hier_gp1[\"value\"] + latencies_gp1_rep\n",
    "df_hier_gp2[\"e2e\"] = df_hier_gp2[\"value\"] + latencies_gp2_rep\n",
    "# \n",
    "\n",
    "df_hier = pd.concat([df_hier_gp1, df_hier_gp2])"
   ],
   "metadata": {
    "collapsed": false,
    "ExecuteTime": {
     "end_time": "2024-06-10T11:33:36.623670Z",
     "start_time": "2024-06-10T11:33:36.599892Z"
    }
   },
   "id": "864c236c0dcb704e",
   "execution_count": 79,
   "outputs": [
    {
     "name": "stdout",
     "output_type": "stream",
     "text": [
      "[ 0.    4.75  9.5  14.25 19.   23.75 28.5  33.25 38.   42.75 47.5  52.25\n",
      " 57.   61.75 66.5  71.25 76.   80.75 85.5  90.25 95.  ]\n"
     ]
    }
   ]
  },
  {
   "cell_type": "code",
   "source": [
    "len(calcs_gp1)"
   ],
   "metadata": {
    "collapsed": false,
    "ExecuteTime": {
     "end_time": "2024-06-10T11:33:36.626576Z",
     "start_time": "2024-06-10T11:33:36.624281Z"
    }
   },
   "id": "f685763e7d36a8f",
   "outputs": [
    {
     "data": {
      "text/plain": [
       "200"
      ]
     },
     "execution_count": 80,
     "metadata": {},
     "output_type": "execute_result"
    }
   ],
   "execution_count": 80
  },
  {
   "cell_type": "code",
   "source": [
    "assert all(df_hier_gp2[\"value\"].to_numpy()[1800:3600] == df_hier_gp2[\"value\"].to_numpy()[0:1800])"
   ],
   "metadata": {
    "collapsed": false,
    "ExecuteTime": {
     "end_time": "2024-06-10T11:33:36.636967Z",
     "start_time": "2024-06-10T11:33:36.627364Z"
    }
   },
   "id": "c85d0c189f43ce4d",
   "outputs": [],
   "execution_count": 81
  },
  {
   "cell_type": "code",
   "source": [
    "df_hier_gp1[2000:]"
   ],
   "metadata": {
    "collapsed": false,
    "ExecuteTime": {
     "end_time": "2024-06-10T11:33:36.657061Z",
     "start_time": "2024-06-10T11:33:36.637906Z"
    }
   },
   "id": "8089bda8e7d58337",
   "outputs": [
    {
     "data": {
      "text/plain": [
       "      speedup     value       e2e\n",
       "2000     47.5  0.002036  0.072638\n",
       "2001     47.5  0.002352  0.072955\n",
       "2002     47.5  0.040853  0.136500\n",
       "2003     47.5  0.001373  0.097021\n",
       "2004     47.5  0.001874  0.097521\n",
       "...       ...       ...       ...\n",
       "4195     95.0  0.000200  0.070803\n",
       "4196     95.0  0.000155  0.095802\n",
       "4197     95.0  0.000244  0.070847\n",
       "4198     95.0  0.000705  0.071308\n",
       "4199     95.0  0.000129  0.095776\n",
       "\n",
       "[2200 rows x 3 columns]"
      ],
      "text/html": [
       "<div>\n",
       "<style scoped>\n",
       "    .dataframe tbody tr th:only-of-type {\n",
       "        vertical-align: middle;\n",
       "    }\n",
       "\n",
       "    .dataframe tbody tr th {\n",
       "        vertical-align: top;\n",
       "    }\n",
       "\n",
       "    .dataframe thead th {\n",
       "        text-align: right;\n",
       "    }\n",
       "</style>\n",
       "<table border=\"1\" class=\"dataframe\">\n",
       "  <thead>\n",
       "    <tr style=\"text-align: right;\">\n",
       "      <th></th>\n",
       "      <th>speedup</th>\n",
       "      <th>value</th>\n",
       "      <th>e2e</th>\n",
       "    </tr>\n",
       "  </thead>\n",
       "  <tbody>\n",
       "    <tr>\n",
       "      <th>2000</th>\n",
       "      <td>47.5</td>\n",
       "      <td>0.002036</td>\n",
       "      <td>0.072638</td>\n",
       "    </tr>\n",
       "    <tr>\n",
       "      <th>2001</th>\n",
       "      <td>47.5</td>\n",
       "      <td>0.002352</td>\n",
       "      <td>0.072955</td>\n",
       "    </tr>\n",
       "    <tr>\n",
       "      <th>2002</th>\n",
       "      <td>47.5</td>\n",
       "      <td>0.040853</td>\n",
       "      <td>0.136500</td>\n",
       "    </tr>\n",
       "    <tr>\n",
       "      <th>2003</th>\n",
       "      <td>47.5</td>\n",
       "      <td>0.001373</td>\n",
       "      <td>0.097021</td>\n",
       "    </tr>\n",
       "    <tr>\n",
       "      <th>2004</th>\n",
       "      <td>47.5</td>\n",
       "      <td>0.001874</td>\n",
       "      <td>0.097521</td>\n",
       "    </tr>\n",
       "    <tr>\n",
       "      <th>...</th>\n",
       "      <td>...</td>\n",
       "      <td>...</td>\n",
       "      <td>...</td>\n",
       "    </tr>\n",
       "    <tr>\n",
       "      <th>4195</th>\n",
       "      <td>95.0</td>\n",
       "      <td>0.000200</td>\n",
       "      <td>0.070803</td>\n",
       "    </tr>\n",
       "    <tr>\n",
       "      <th>4196</th>\n",
       "      <td>95.0</td>\n",
       "      <td>0.000155</td>\n",
       "      <td>0.095802</td>\n",
       "    </tr>\n",
       "    <tr>\n",
       "      <th>4197</th>\n",
       "      <td>95.0</td>\n",
       "      <td>0.000244</td>\n",
       "      <td>0.070847</td>\n",
       "    </tr>\n",
       "    <tr>\n",
       "      <th>4198</th>\n",
       "      <td>95.0</td>\n",
       "      <td>0.000705</td>\n",
       "      <td>0.071308</td>\n",
       "    </tr>\n",
       "    <tr>\n",
       "      <th>4199</th>\n",
       "      <td>95.0</td>\n",
       "      <td>0.000129</td>\n",
       "      <td>0.095776</td>\n",
       "    </tr>\n",
       "  </tbody>\n",
       "</table>\n",
       "<p>2200 rows × 3 columns</p>\n",
       "</div>"
      ]
     },
     "execution_count": 82,
     "metadata": {},
     "output_type": "execute_result"
    }
   ],
   "execution_count": 82
  },
  {
   "cell_type": "code",
   "source": [
    "print(df_hier[df_hier[\"speedup\"] == 0.0][\"e2e\"].mean())\n",
    "print(df_hier[df_hier[\"speedup\"] > 0.0][\"e2e\"].mean())"
   ],
   "metadata": {
    "collapsed": false,
    "ExecuteTime": {
     "end_time": "2024-06-10T11:33:36.670088Z",
     "start_time": "2024-06-10T11:33:36.657855Z"
    }
   },
   "id": "4bc53fd6a9ca8d45",
   "outputs": [
    {
     "name": "stdout",
     "output_type": "stream",
     "text": [
      "0.017716505483136635\n",
      "0.01745097270135687\n"
     ]
    }
   ],
   "execution_count": 83
  },
  {
   "cell_type": "code",
   "source": [
    "print(calcs_gp2[0].mean())\n",
    "print(calcs_gp1[0].mean())"
   ],
   "metadata": {
    "collapsed": false,
    "ExecuteTime": {
     "end_time": "2024-06-10T11:33:36.685787Z",
     "start_time": "2024-06-10T11:33:36.671210Z"
    }
   },
   "id": "59f2097a6359629d",
   "outputs": [
    {
     "name": "stdout",
     "output_type": "stream",
     "text": [
      "0.003451026678085281\n",
      "0.005323965549468946\n"
     ]
    }
   ],
   "execution_count": 84
  },
  {
   "cell_type": "code",
   "source": [
    "calcs_flat = pd.read_csv(flat_root / \"calculations.txt\", header=None)\n",
    "latencies = pd.read_csv(flat_root / \"latencies.txt\", header=None)\n",
    "calcs_flat = calcs_flat * 1\n",
    "\n",
    "# reduce not incrase time \n",
    "df_flat = pd.DataFrame([(s, val[0] * (1 - (s / 100.))) for s in speedups for val in calcs_flat.to_numpy()], columns=['speedup', 'value'])\n",
    "\n",
    "assert len(df_flat) == len(speedups) * len(calcs_flat)\n",
    "assert len(df_flat) == len(df_hier)\n",
    "\n",
    "latencies_rep = np.tile(latencies.values.reshape(-1), len(speedups))\n",
    "assert all(latencies_rep[2000:4000] == latencies_rep[0:2000])\n",
    "df_flat[\"e2e\"] = df_flat[\"value\"] + latencies_rep \n",
    "print(df_flat)"
   ],
   "metadata": {
    "collapsed": false,
    "ExecuteTime": {
     "end_time": "2024-06-10T11:33:36.722137Z",
     "start_time": "2024-06-10T11:33:36.686582Z"
    }
   },
   "id": "67b68af3e6b8ea2b",
   "outputs": [
    {
     "name": "stdout",
     "output_type": "stream",
     "text": [
      "       speedup     value       e2e\n",
      "0          0.0  0.050594  0.144479\n",
      "1          0.0  0.001880  0.072435\n",
      "2          0.0  0.003478  0.070290\n",
      "3          0.0  0.002418  0.077591\n",
      "4          0.0  0.002943  0.094837\n",
      "...        ...       ...       ...\n",
      "41995     95.0  0.000205  0.078201\n",
      "41996     95.0  0.000030  0.064424\n",
      "41997     95.0  0.000141  0.094026\n",
      "41998     95.0  0.000172  0.098911\n",
      "41999     95.0  0.000077  0.054297\n",
      "\n",
      "[42000 rows x 3 columns]\n"
     ]
    }
   ],
   "execution_count": 85
  },
  {
   "cell_type": "code",
   "source": [
    "df_flat[4000:]"
   ],
   "metadata": {
    "collapsed": false,
    "ExecuteTime": {
     "end_time": "2024-06-10T11:33:36.728996Z",
     "start_time": "2024-06-10T11:33:36.723178Z"
    }
   },
   "id": "af8713d9643afdaf",
   "outputs": [
    {
     "data": {
      "text/plain": [
       "       speedup     value       e2e\n",
       "4000       9.5  0.045788  0.139673\n",
       "4001       9.5  0.001702  0.072256\n",
       "4002       9.5  0.003148  0.069960\n",
       "4003       9.5  0.002188  0.077361\n",
       "4004       9.5  0.002663  0.094557\n",
       "...        ...       ...       ...\n",
       "41995     95.0  0.000205  0.078201\n",
       "41996     95.0  0.000030  0.064424\n",
       "41997     95.0  0.000141  0.094026\n",
       "41998     95.0  0.000172  0.098911\n",
       "41999     95.0  0.000077  0.054297\n",
       "\n",
       "[38000 rows x 3 columns]"
      ],
      "text/html": [
       "<div>\n",
       "<style scoped>\n",
       "    .dataframe tbody tr th:only-of-type {\n",
       "        vertical-align: middle;\n",
       "    }\n",
       "\n",
       "    .dataframe tbody tr th {\n",
       "        vertical-align: top;\n",
       "    }\n",
       "\n",
       "    .dataframe thead th {\n",
       "        text-align: right;\n",
       "    }\n",
       "</style>\n",
       "<table border=\"1\" class=\"dataframe\">\n",
       "  <thead>\n",
       "    <tr style=\"text-align: right;\">\n",
       "      <th></th>\n",
       "      <th>speedup</th>\n",
       "      <th>value</th>\n",
       "      <th>e2e</th>\n",
       "    </tr>\n",
       "  </thead>\n",
       "  <tbody>\n",
       "    <tr>\n",
       "      <th>4000</th>\n",
       "      <td>9.5</td>\n",
       "      <td>0.045788</td>\n",
       "      <td>0.139673</td>\n",
       "    </tr>\n",
       "    <tr>\n",
       "      <th>4001</th>\n",
       "      <td>9.5</td>\n",
       "      <td>0.001702</td>\n",
       "      <td>0.072256</td>\n",
       "    </tr>\n",
       "    <tr>\n",
       "      <th>4002</th>\n",
       "      <td>9.5</td>\n",
       "      <td>0.003148</td>\n",
       "      <td>0.069960</td>\n",
       "    </tr>\n",
       "    <tr>\n",
       "      <th>4003</th>\n",
       "      <td>9.5</td>\n",
       "      <td>0.002188</td>\n",
       "      <td>0.077361</td>\n",
       "    </tr>\n",
       "    <tr>\n",
       "      <th>4004</th>\n",
       "      <td>9.5</td>\n",
       "      <td>0.002663</td>\n",
       "      <td>0.094557</td>\n",
       "    </tr>\n",
       "    <tr>\n",
       "      <th>...</th>\n",
       "      <td>...</td>\n",
       "      <td>...</td>\n",
       "      <td>...</td>\n",
       "    </tr>\n",
       "    <tr>\n",
       "      <th>41995</th>\n",
       "      <td>95.0</td>\n",
       "      <td>0.000205</td>\n",
       "      <td>0.078201</td>\n",
       "    </tr>\n",
       "    <tr>\n",
       "      <th>41996</th>\n",
       "      <td>95.0</td>\n",
       "      <td>0.000030</td>\n",
       "      <td>0.064424</td>\n",
       "    </tr>\n",
       "    <tr>\n",
       "      <th>41997</th>\n",
       "      <td>95.0</td>\n",
       "      <td>0.000141</td>\n",
       "      <td>0.094026</td>\n",
       "    </tr>\n",
       "    <tr>\n",
       "      <th>41998</th>\n",
       "      <td>95.0</td>\n",
       "      <td>0.000172</td>\n",
       "      <td>0.098911</td>\n",
       "    </tr>\n",
       "    <tr>\n",
       "      <th>41999</th>\n",
       "      <td>95.0</td>\n",
       "      <td>0.000077</td>\n",
       "      <td>0.054297</td>\n",
       "    </tr>\n",
       "  </tbody>\n",
       "</table>\n",
       "<p>38000 rows × 3 columns</p>\n",
       "</div>"
      ]
     },
     "execution_count": 86,
     "metadata": {},
     "output_type": "execute_result"
    }
   ],
   "execution_count": 86
  },
  {
   "cell_type": "code",
   "source": [
    "calcs_flat"
   ],
   "metadata": {
    "collapsed": false,
    "ExecuteTime": {
     "end_time": "2024-06-10T11:33:36.742671Z",
     "start_time": "2024-06-10T11:33:36.730393Z"
    }
   },
   "id": "6098d1631d48adf6",
   "outputs": [
    {
     "data": {
      "text/plain": [
       "             0\n",
       "0     0.050594\n",
       "1     0.001880\n",
       "2     0.003478\n",
       "3     0.002418\n",
       "4     0.002943\n",
       "...        ...\n",
       "1995  0.004096\n",
       "1996  0.000602\n",
       "1997  0.002827\n",
       "1998  0.003440\n",
       "1999  0.001536\n",
       "\n",
       "[2000 rows x 1 columns]"
      ],
      "text/html": [
       "<div>\n",
       "<style scoped>\n",
       "    .dataframe tbody tr th:only-of-type {\n",
       "        vertical-align: middle;\n",
       "    }\n",
       "\n",
       "    .dataframe tbody tr th {\n",
       "        vertical-align: top;\n",
       "    }\n",
       "\n",
       "    .dataframe thead th {\n",
       "        text-align: right;\n",
       "    }\n",
       "</style>\n",
       "<table border=\"1\" class=\"dataframe\">\n",
       "  <thead>\n",
       "    <tr style=\"text-align: right;\">\n",
       "      <th></th>\n",
       "      <th>0</th>\n",
       "    </tr>\n",
       "  </thead>\n",
       "  <tbody>\n",
       "    <tr>\n",
       "      <th>0</th>\n",
       "      <td>0.050594</td>\n",
       "    </tr>\n",
       "    <tr>\n",
       "      <th>1</th>\n",
       "      <td>0.001880</td>\n",
       "    </tr>\n",
       "    <tr>\n",
       "      <th>2</th>\n",
       "      <td>0.003478</td>\n",
       "    </tr>\n",
       "    <tr>\n",
       "      <th>3</th>\n",
       "      <td>0.002418</td>\n",
       "    </tr>\n",
       "    <tr>\n",
       "      <th>4</th>\n",
       "      <td>0.002943</td>\n",
       "    </tr>\n",
       "    <tr>\n",
       "      <th>...</th>\n",
       "      <td>...</td>\n",
       "    </tr>\n",
       "    <tr>\n",
       "      <th>1995</th>\n",
       "      <td>0.004096</td>\n",
       "    </tr>\n",
       "    <tr>\n",
       "      <th>1996</th>\n",
       "      <td>0.000602</td>\n",
       "    </tr>\n",
       "    <tr>\n",
       "      <th>1997</th>\n",
       "      <td>0.002827</td>\n",
       "    </tr>\n",
       "    <tr>\n",
       "      <th>1998</th>\n",
       "      <td>0.003440</td>\n",
       "    </tr>\n",
       "    <tr>\n",
       "      <th>1999</th>\n",
       "      <td>0.001536</td>\n",
       "    </tr>\n",
       "  </tbody>\n",
       "</table>\n",
       "<p>2000 rows × 1 columns</p>\n",
       "</div>"
      ]
     },
     "execution_count": 87,
     "metadata": {},
     "output_type": "execute_result"
    }
   ],
   "execution_count": 87
  },
  {
   "cell_type": "code",
   "source": [
    "import matplotlib.lines as mlines\n",
    "import matplotlib.pyplot as plt\n",
    "\n",
    "df_hier[\"Method\"] = \"Hierarchical\"\n",
    "df_flat[\"Method\"] = \"Non-Hierarchical\"\n",
    "df_hflop[\"Method\"] = \"HFLOP\"\n",
    "\n",
    "df_res =  pd.concat([df_hier, df_flat, df_hflop])\n",
    "print(df_hier)\n",
    "print(df_flat)\n",
    "plt.figure(figsize=(14,10)) \n",
    "plot = sns.lineplot(x='speedup', y='e2e', hue='Method', data=df_res, errorbar='ci', marker='o')\n",
    "\n",
    "# hflops_constant = df_hflop[\"e2e\"].mean()\n",
    "# plt.axhline(y=hflops_constant, color=\"r\")\n",
    "\n",
    "# Make a legend for the meaning of the line color.\n",
    "# red_line = mlines.Line2D([], [], color='red', label='HFLOP')\n",
    "\n",
    "# Get the current legend\n",
    "leg = plot.legend_\n",
    "plt.xticks(fontsize=30.0)\n",
    "plt.yticks(fontsize=30.0)\n",
    "# Manually update the legend\n",
    "# leg.get_lines().append(red_line)\n",
    "# leg.get_texts().append(plt.text(0, 0, 'HFLOP'))\n",
    "\n",
    "# Update the legend with the custom legend\n",
    "plot.legend(fontsize=30.0)#handles=leg.legendHandles + [red_line])\n",
    "plt.title('')\n",
    "# plot.xticks(rotation=90, size=30.0)\n",
    "# plot.yticks(rotation=90, size=30.0)\n",
    "plt.xlabel('Computing Power Increase [%]', size=30.0)\n",
    "plt.ylabel('End-to-End Latency', size=30.0)\n",
    "plt.savefig(\"speedups_1.png\")\n",
    "plt.show()"
   ],
   "metadata": {
    "collapsed": false,
    "ExecuteTime": {
     "end_time": "2024-06-10T11:33:38.041319Z",
     "start_time": "2024-06-10T11:33:36.743575Z"
    }
   },
   "id": "eeba03dd5aef3f7e",
   "outputs": [
    {
     "name": "stdout",
     "output_type": "stream",
     "text": [
      "       speedup     value       e2e        Method\n",
      "0          0.0  0.003877  0.074480  Hierarchical\n",
      "1          0.0  0.004481  0.075084  Hierarchical\n",
      "2          0.0  0.077815  0.173462  Hierarchical\n",
      "3          0.0  0.002616  0.098263  Hierarchical\n",
      "4          0.0  0.003570  0.099217  Hierarchical\n",
      "...        ...       ...       ...           ...\n",
      "37795     95.0  0.002904  0.012450  Hierarchical\n",
      "37796     95.0  0.000854  0.009595  Hierarchical\n",
      "37797     95.0  0.002303  0.007362  Hierarchical\n",
      "37798     95.0  0.001627  0.008159  Hierarchical\n",
      "37799     95.0  0.004367  0.009234  Hierarchical\n",
      "\n",
      "[42000 rows x 4 columns]\n",
      "       speedup     value       e2e            Method\n",
      "0          0.0  0.050594  0.144479  Non-Hierarchical\n",
      "1          0.0  0.001880  0.072435  Non-Hierarchical\n",
      "2          0.0  0.003478  0.070290  Non-Hierarchical\n",
      "3          0.0  0.002418  0.077591  Non-Hierarchical\n",
      "4          0.0  0.002943  0.094837  Non-Hierarchical\n",
      "...        ...       ...       ...               ...\n",
      "41995     95.0  0.000205  0.078201  Non-Hierarchical\n",
      "41996     95.0  0.000030  0.064424  Non-Hierarchical\n",
      "41997     95.0  0.000141  0.094026  Non-Hierarchical\n",
      "41998     95.0  0.000172  0.098911  Non-Hierarchical\n",
      "41999     95.0  0.000077  0.054297  Non-Hierarchical\n",
      "\n",
      "[42000 rows x 4 columns]\n"
     ]
    },
    {
     "data": {
      "text/plain": [
       "<Figure size 1400x1000 with 1 Axes>"
      ],
      "image/png": "[encoded data removed]"
     },
     "metadata": {},
     "output_type": "display_data"
    }
   ],
   "execution_count": 88
  },
  {
   "metadata": {
    "ExecuteTime": {
     "end_time": "2024-06-10T11:33:38.043547Z",
     "start_time": "2024-06-10T11:33:38.041943Z"
    }
   },
   "cell_type": "code",
   "source": "",
   "id": "cf9b096c032a0bc6",
   "outputs": [],
   "execution_count": 88
  }
 ],
 "metadata": {
  "kernelspec": {
   "display_name": "Python 3",
   "language": "python",
   "name": "python3"
  },
  "language_info": {
   "codemirror_mode": {
    "name": "ipython",
    "version": 2
   },
   "file_extension": ".py",
   "mimetype": "text/x-python",
   "name": "python",
   "nbconvert_exporter": "python",
   "pygments_lexer": "ipython2",
   "version": "2.7.6"
  }
 },
 "nbformat": 4,
 "nbformat_minor": 5
}
