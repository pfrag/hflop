{
 "cells": [
  {
   "cell_type": "code",
   "id": "initial_id",
   "metadata": {
    "collapsed": true,
    "ExecuteTime": {
     "end_time": "2024-06-10T15:20:46.251359Z",
     "start_time": "2024-06-10T15:20:46.248556Z"
    }
   },
   "source": [
    "from pathlib import Path\n",
    "import numpy as np\n",
    "import pandas as pd\n",
    "import seaborn as sns\n",
    "import matplotlib.pyplot as plt\n",
    "\n",
    "data_root = Path(\"./results\")\n",
    "hflop_root = data_root / \"hflop\"\n",
    "hier_root = data_root / \"hier\"\n",
    "flat_root = data_root / \"non_hier\"\n",
    "\n",
    "assert hflop_root.is_dir() and hier_root.is_dir() and flat_root.is_dir()"
   ],
   "outputs": [],
   "execution_count": 3
  },
  {
   "cell_type": "code",
   "source": [
    "df_hflop = pd.read_csv(hflop_root / \"calculations.txt\", header=None)\n",
    "latencies_hflop = pd.read_csv(hflop_root / \"latencies.txt\", header=None)\n",
    "\n",
    "df_hflop[\"e2e\"] = df_hflop[0] + latencies_hflop[0]\n",
    "\n",
    "df_hflop.head(n=10)\n",
    "\n"
   ],
   "metadata": {
    "collapsed": false,
    "ExecuteTime": {
     "end_time": "2024-06-10T15:20:47.832059Z",
     "start_time": "2024-06-10T15:20:47.821335Z"
    }
   },
   "id": "bac2a990d36cf506",
   "outputs": [
    {
     "data": {
      "text/plain": [
       "          0       e2e\n",
       "0  0.044811  0.049712\n",
       "1  0.000754  0.007735\n",
       "2  0.003046  0.012605\n",
       "3  0.000513  0.009645\n",
       "4  0.046306  0.049180\n",
       "5  0.003823  0.011755\n",
       "6  0.001243  0.006938\n",
       "7  0.004485  0.007714\n",
       "8  0.003975  0.009076\n",
       "9  0.002433  0.007883"
      ],
      "text/html": [
       "<div>\n",
       "<style scoped>\n",
       "    .dataframe tbody tr th:only-of-type {\n",
       "        vertical-align: middle;\n",
       "    }\n",
       "\n",
       "    .dataframe tbody tr th {\n",
       "        vertical-align: top;\n",
       "    }\n",
       "\n",
       "    .dataframe thead th {\n",
       "        text-align: right;\n",
       "    }\n",
       "</style>\n",
       "<table border=\"1\" class=\"dataframe\">\n",
       "  <thead>\n",
       "    <tr style=\"text-align: right;\">\n",
       "      <th></th>\n",
       "      <th>0</th>\n",
       "      <th>e2e</th>\n",
       "    </tr>\n",
       "  </thead>\n",
       "  <tbody>\n",
       "    <tr>\n",
       "      <th>0</th>\n",
       "      <td>0.044811</td>\n",
       "      <td>0.049712</td>\n",
       "    </tr>\n",
       "    <tr>\n",
       "      <th>1</th>\n",
       "      <td>0.000754</td>\n",
       "      <td>0.007735</td>\n",
       "    </tr>\n",
       "    <tr>\n",
       "      <th>2</th>\n",
       "      <td>0.003046</td>\n",
       "      <td>0.012605</td>\n",
       "    </tr>\n",
       "    <tr>\n",
       "      <th>3</th>\n",
       "      <td>0.000513</td>\n",
       "      <td>0.009645</td>\n",
       "    </tr>\n",
       "    <tr>\n",
       "      <th>4</th>\n",
       "      <td>0.046306</td>\n",
       "      <td>0.049180</td>\n",
       "    </tr>\n",
       "    <tr>\n",
       "      <th>5</th>\n",
       "      <td>0.003823</td>\n",
       "      <td>0.011755</td>\n",
       "    </tr>\n",
       "    <tr>\n",
       "      <th>6</th>\n",
       "      <td>0.001243</td>\n",
       "      <td>0.006938</td>\n",
       "    </tr>\n",
       "    <tr>\n",
       "      <th>7</th>\n",
       "      <td>0.004485</td>\n",
       "      <td>0.007714</td>\n",
       "    </tr>\n",
       "    <tr>\n",
       "      <th>8</th>\n",
       "      <td>0.003975</td>\n",
       "      <td>0.009076</td>\n",
       "    </tr>\n",
       "    <tr>\n",
       "      <th>9</th>\n",
       "      <td>0.002433</td>\n",
       "      <td>0.007883</td>\n",
       "    </tr>\n",
       "  </tbody>\n",
       "</table>\n",
       "</div>"
      ]
     },
     "execution_count": 4,
     "metadata": {},
     "output_type": "execute_result"
    }
   ],
   "execution_count": 4
  },
  {
   "cell_type": "code",
   "source": [
    "speedups = np.linspace(0, 95, 21)\n",
    "\n",
    "\n",
    "calcs_hier = pd.read_csv(hier_root / \"calculations.txt\", header=None)\n",
    "latencies_hier = pd.read_csv(hier_root / \"latencies.txt\", header=None)\n",
    "\n",
    "# gp1 clients have speed ups\n",
    "latencies_gp1 = latencies_hier[latencies_hier[0] > 0.05]\n",
    "calcs_gp1 = calcs_hier.loc[latencies_gp1.index]\n",
    "latencies_gp2 = latencies_hier[latencies_hier[0] <= 0.05]\n",
    "calcs_gp2 = calcs_hier.loc[latencies_gp2.index]\n",
    "\n",
    "# apply speedup for the two client\n",
    "df_hier_gp1 = pd.DataFrame([(s, val[0] * (1 - (s / 100.))) for s in speedups for val in calcs_gp1.to_numpy()], columns=['speedup', 'value'])\n",
    "\n",
    "# \"static\" 0 speedup for other clients\n",
    "df_hier_gp2 = pd.DataFrame([(s, val[0]) for s in speedups for val in calcs_gp2.to_numpy()], columns=['speedup', 'value'])\n",
    "\n",
    "print(len(latencies_gp1))\n",
    "print(len(latencies_gp2))\n",
    "\n",
    "latencies_gp1_rep = np.tile(latencies_gp1.values.reshape(-1), len(speedups))\n",
    "latencies_gp2_rep = np.tile(latencies_gp2.values.reshape(-1), len(speedups))\n",
    "\n",
    "\n",
    "df_hier_gp1[\"e2e\"] = df_hier_gp1[\"value\"] + latencies_gp1_rep\n",
    "df_hier_gp2[\"e2e\"] = df_hier_gp2[\"value\"] + latencies_gp2_rep\n",
    "# \n",
    "\n",
    "df_hier = pd.concat([df_hier_gp1, df_hier_gp2])\n"
   ],
   "metadata": {
    "collapsed": false,
    "ExecuteTime": {
     "end_time": "2024-06-10T15:21:10.195090Z",
     "start_time": "2024-06-10T15:21:10.108695Z"
    }
   },
   "id": "864c236c0dcb704e",
   "outputs": [
    {
     "name": "stdout",
     "output_type": "stream",
     "text": [
      "200\n",
      "1800\n"
     ]
    }
   ],
   "execution_count": 5
  },
  {
   "cell_type": "code",
   "outputs": [
    {
     "data": {
      "text/plain": "200"
     },
     "execution_count": 240,
     "metadata": {},
     "output_type": "execute_result"
    }
   ],
   "source": [
    "len(calcs_gp1)"
   ],
   "metadata": {
    "collapsed": false,
    "ExecuteTime": {
     "end_time": "2024-06-09T17:53:00.615239209Z",
     "start_time": "2024-06-09T17:53:00.510914526Z"
    }
   },
   "id": "f685763e7d36a8f",
   "execution_count": 240
  },
  {
   "cell_type": "code",
   "outputs": [],
   "source": [
    "assert all(df_hier_gp2[\"value\"].to_numpy()[1800:3600] == df_hier_gp2[\"value\"].to_numpy()[0:1800])"
   ],
   "metadata": {
    "collapsed": false,
    "ExecuteTime": {
     "end_time": "2024-06-09T17:40:20.035524432Z",
     "start_time": "2024-06-09T17:40:20.028593961Z"
    }
   },
   "id": "c85d0c189f43ce4d",
   "execution_count": 204
  },
  {
   "cell_type": "code",
   "outputs": [
    {
     "data": {
      "text/plain": "       speedup     value       e2e\n2000      47.5  0.002036  0.072638\n2001      47.5  0.002352  0.072955\n2002      47.5  0.040853  0.136500\n2003      47.5  0.001373  0.097021\n2004      47.5  0.001874  0.097521\n...        ...       ...       ...\n37795      0.0  0.002904  0.012450\n37796      0.0  0.000854  0.009595\n37797      0.0  0.002303  0.007362\n37798      0.0  0.001627  0.008159\n37799      0.0  0.004367  0.009234\n\n[40000 rows x 3 columns]",
      "text/html": "<div>\n<style scoped>\n    .dataframe tbody tr th:only-of-type {\n        vertical-align: middle;\n    }\n\n    .dataframe tbody tr th {\n        vertical-align: top;\n    }\n\n    .dataframe thead th {\n        text-align: right;\n    }\n</style>\n<table border=\"1\" class=\"dataframe\">\n  <thead>\n    <tr style=\"text-align: right;\">\n      <th></th>\n      <th>speedup</th>\n      <th>value</th>\n      <th>e2e</th>\n    </tr>\n  </thead>\n  <tbody>\n    <tr>\n      <th>2000</th>\n      <td>47.5</td>\n      <td>0.002036</td>\n      <td>0.072638</td>\n    </tr>\n    <tr>\n      <th>2001</th>\n      <td>47.5</td>\n      <td>0.002352</td>\n      <td>0.072955</td>\n    </tr>\n    <tr>\n      <th>2002</th>\n      <td>47.5</td>\n      <td>0.040853</td>\n      <td>0.136500</td>\n    </tr>\n    <tr>\n      <th>2003</th>\n      <td>47.5</td>\n      <td>0.001373</td>\n      <td>0.097021</td>\n    </tr>\n    <tr>\n      <th>2004</th>\n      <td>47.5</td>\n      <td>0.001874</td>\n      <td>0.097521</td>\n    </tr>\n    <tr>\n      <th>...</th>\n      <td>...</td>\n      <td>...</td>\n      <td>...</td>\n    </tr>\n    <tr>\n      <th>37795</th>\n      <td>0.0</td>\n      <td>0.002904</td>\n      <td>0.012450</td>\n    </tr>\n    <tr>\n      <th>37796</th>\n      <td>0.0</td>\n      <td>0.000854</td>\n      <td>0.009595</td>\n    </tr>\n    <tr>\n      <th>37797</th>\n      <td>0.0</td>\n      <td>0.002303</td>\n      <td>0.007362</td>\n    </tr>\n    <tr>\n      <th>37798</th>\n      <td>0.0</td>\n      <td>0.001627</td>\n      <td>0.008159</td>\n    </tr>\n    <tr>\n      <th>37799</th>\n      <td>0.0</td>\n      <td>0.004367</td>\n      <td>0.009234</td>\n    </tr>\n  </tbody>\n</table>\n<p>40000 rows × 3 columns</p>\n</div>"
     },
     "execution_count": 206,
     "metadata": {},
     "output_type": "execute_result"
    }
   ],
   "source": [
    "df_hier_gp1[2000:]"
   ],
   "metadata": {
    "collapsed": false,
    "ExecuteTime": {
     "end_time": "2024-06-09T17:40:49.953276832Z",
     "start_time": "2024-06-09T17:40:49.928558554Z"
    }
   },
   "id": "8089bda8e7d58337",
   "execution_count": 206
  },
  {
   "cell_type": "code",
   "outputs": [
    {
     "name": "stdout",
     "output_type": "stream",
     "text": [
      "0.017716505483136635\n",
      "0.01745097270135687\n"
     ]
    }
   ],
   "source": [
    "print(df_hier[df_hier[\"speedup\"] == 0.0][\"e2e\"].mean())\n",
    "print(df_hier[df_hier[\"speedup\"] > 0.0][\"e2e\"].mean())"
   ],
   "metadata": {
    "collapsed": false,
    "ExecuteTime": {
     "end_time": "2024-06-09T17:54:34.190471199Z",
     "start_time": "2024-06-09T17:54:34.169278523Z"
    }
   },
   "id": "4bc53fd6a9ca8d45",
   "execution_count": 243
  },
  {
   "cell_type": "code",
   "outputs": [
    {
     "name": "stdout",
     "output_type": "stream",
     "text": [
      "0.003451026678085281\n",
      "0.005323965549468946\n"
     ]
    }
   ],
   "source": [
    "print(calcs_gp2[0].mean())\n",
    "print(calcs_gp1[0].mean())"
   ],
   "metadata": {
    "collapsed": false,
    "ExecuteTime": {
     "end_time": "2024-06-09T17:43:13.106688994Z",
     "start_time": "2024-06-09T17:43:13.099325689Z"
    }
   },
   "id": "59f2097a6359629d",
   "execution_count": 219
  },
  {
   "cell_type": "code",
   "outputs": [],
   "source": [
    "calcs_flat = pd.read_csv(flat_root / \"calculations.txt\", header=None)\n",
    "latencies = pd.read_csv(flat_root / \"latencies.txt\", header=None)\n",
    "\n",
    "# reduce not incrase time \n",
    "df_flat = pd.DataFrame([(s, val[0] * (1 - (s / 100.))) for s in speedups for val in calcs_flat.to_numpy()], columns=['speedup', 'value'])\n",
    "\n",
    "assert len(df_flat) == len(speedups) * len(calcs_flat)\n",
    "assert len(df_flat) == len(df_hier)\n",
    "\n",
    "latencies_rep = np.tile(latencies.values.reshape(-1), len(speedups))\n",
    "assert all(latencies_rep[2000:4000] == latencies_rep[0:2000])\n",
    "df_flat[\"e2e\"] = df_flat[\"value\"] + latencies_rep "
   ],
   "metadata": {
    "collapsed": false,
    "ExecuteTime": {
     "end_time": "2024-06-09T17:25:21.954325303Z",
     "start_time": "2024-06-09T17:25:21.921121312Z"
    }
   },
   "id": "67b68af3e6b8ea2b",
   "execution_count": 153
  },
  {
   "cell_type": "code",
   "outputs": [
    {
     "data": {
      "text/plain": "       speedup     value       e2e            Method\n4000     100.0  0.000000  0.093885  Non-Hierarchical\n4001     100.0  0.000000  0.070555  Non-Hierarchical\n4002     100.0  0.000000  0.066812  Non-Hierarchical\n4003     100.0  0.000000  0.075173  Non-Hierarchical\n4004     100.0  0.000000  0.091894  Non-Hierarchical\n...        ...       ...       ...               ...\n41995   1000.0 -0.036862  0.041134  Non-Hierarchical\n41996   1000.0 -0.005414  0.058980  Non-Hierarchical\n41997   1000.0 -0.025442  0.068443  Non-Hierarchical\n41998   1000.0 -0.030963  0.067776  Non-Hierarchical\n41999   1000.0 -0.013821  0.040399  Non-Hierarchical\n\n[38000 rows x 4 columns]",
      "text/html": "<div>\n<style scoped>\n    .dataframe tbody tr th:only-of-type {\n        vertical-align: middle;\n    }\n\n    .dataframe tbody tr th {\n        vertical-align: top;\n    }\n\n    .dataframe thead th {\n        text-align: right;\n    }\n</style>\n<table border=\"1\" class=\"dataframe\">\n  <thead>\n    <tr style=\"text-align: right;\">\n      <th></th>\n      <th>speedup</th>\n      <th>value</th>\n      <th>e2e</th>\n      <th>Method</th>\n    </tr>\n  </thead>\n  <tbody>\n    <tr>\n      <th>4000</th>\n      <td>100.0</td>\n      <td>0.000000</td>\n      <td>0.093885</td>\n      <td>Non-Hierarchical</td>\n    </tr>\n    <tr>\n      <th>4001</th>\n      <td>100.0</td>\n      <td>0.000000</td>\n      <td>0.070555</td>\n      <td>Non-Hierarchical</td>\n    </tr>\n    <tr>\n      <th>4002</th>\n      <td>100.0</td>\n      <td>0.000000</td>\n      <td>0.066812</td>\n      <td>Non-Hierarchical</td>\n    </tr>\n    <tr>\n      <th>4003</th>\n      <td>100.0</td>\n      <td>0.000000</td>\n      <td>0.075173</td>\n      <td>Non-Hierarchical</td>\n    </tr>\n    <tr>\n      <th>4004</th>\n      <td>100.0</td>\n      <td>0.000000</td>\n      <td>0.091894</td>\n      <td>Non-Hierarchical</td>\n    </tr>\n    <tr>\n      <th>...</th>\n      <td>...</td>\n      <td>...</td>\n      <td>...</td>\n      <td>...</td>\n    </tr>\n    <tr>\n      <th>41995</th>\n      <td>1000.0</td>\n      <td>-0.036862</td>\n      <td>0.041134</td>\n      <td>Non-Hierarchical</td>\n    </tr>\n    <tr>\n      <th>41996</th>\n      <td>1000.0</td>\n      <td>-0.005414</td>\n      <td>0.058980</td>\n      <td>Non-Hierarchical</td>\n    </tr>\n    <tr>\n      <th>41997</th>\n      <td>1000.0</td>\n      <td>-0.025442</td>\n      <td>0.068443</td>\n      <td>Non-Hierarchical</td>\n    </tr>\n    <tr>\n      <th>41998</th>\n      <td>1000.0</td>\n      <td>-0.030963</td>\n      <td>0.067776</td>\n      <td>Non-Hierarchical</td>\n    </tr>\n    <tr>\n      <th>41999</th>\n      <td>1000.0</td>\n      <td>-0.013821</td>\n      <td>0.040399</td>\n      <td>Non-Hierarchical</td>\n    </tr>\n  </tbody>\n</table>\n<p>38000 rows × 4 columns</p>\n</div>"
     },
     "execution_count": 150,
     "metadata": {},
     "output_type": "execute_result"
    }
   ],
   "source": [
    "df_flat[4000:]"
   ],
   "metadata": {
    "collapsed": false,
    "ExecuteTime": {
     "end_time": "2024-06-09T17:25:02.973606952Z",
     "start_time": "2024-06-09T17:25:02.927691646Z"
    }
   },
   "id": "af8713d9643afdaf",
   "execution_count": 150
  },
  {
   "cell_type": "code",
   "outputs": [
    {
     "data": {
      "text/plain": "             0\n0     0.050594\n1     0.001880\n2     0.003478\n3     0.002418\n4     0.002943\n...        ...\n1995  0.004096\n1996  0.000602\n1997  0.002827\n1998  0.003440\n1999  0.001536\n\n[2000 rows x 1 columns]",
      "text/html": "<div>\n<style scoped>\n    .dataframe tbody tr th:only-of-type {\n        vertical-align: middle;\n    }\n\n    .dataframe tbody tr th {\n        vertical-align: top;\n    }\n\n    .dataframe thead th {\n        text-align: right;\n    }\n</style>\n<table border=\"1\" class=\"dataframe\">\n  <thead>\n    <tr style=\"text-align: right;\">\n      <th></th>\n      <th>0</th>\n    </tr>\n  </thead>\n  <tbody>\n    <tr>\n      <th>0</th>\n      <td>0.050594</td>\n    </tr>\n    <tr>\n      <th>1</th>\n      <td>0.001880</td>\n    </tr>\n    <tr>\n      <th>2</th>\n      <td>0.003478</td>\n    </tr>\n    <tr>\n      <th>3</th>\n      <td>0.002418</td>\n    </tr>\n    <tr>\n      <th>4</th>\n      <td>0.002943</td>\n    </tr>\n    <tr>\n      <th>...</th>\n      <td>...</td>\n    </tr>\n    <tr>\n      <th>1995</th>\n      <td>0.004096</td>\n    </tr>\n    <tr>\n      <th>1996</th>\n      <td>0.000602</td>\n    </tr>\n    <tr>\n      <th>1997</th>\n      <td>0.002827</td>\n    </tr>\n    <tr>\n      <th>1998</th>\n      <td>0.003440</td>\n    </tr>\n    <tr>\n      <th>1999</th>\n      <td>0.001536</td>\n    </tr>\n  </tbody>\n</table>\n<p>2000 rows × 1 columns</p>\n</div>"
     },
     "execution_count": 146,
     "metadata": {},
     "output_type": "execute_result"
    }
   ],
   "source": [
    "calcs_flat"
   ],
   "metadata": {
    "collapsed": false,
    "ExecuteTime": {
     "end_time": "2024-06-09T17:24:33.406594997Z",
     "start_time": "2024-06-09T17:24:33.364279531Z"
    }
   },
   "id": "6098d1631d48adf6",
   "execution_count": 146
  },
  {
   "cell_type": "code",
   "outputs": [
    {
     "name": "stderr",
     "output_type": "stream",
     "text": [
      "/tmp/ipykernel_83830/1672305611.py:27: MatplotlibDeprecationWarning: The legendHandles attribute was deprecated in Matplotlib 3.7 and will be removed two minor releases later. Use legend_handles instead.\n",
      "  plot.legend(handles=leg.legendHandles + [red_line])\n"
     ]
    },
    {
     "data": {
      "text/plain": "<Figure size 1000x600 with 1 Axes>",
      "image/png": "[encoded data removed]"
     },
     "metadata": {},
     "output_type": "display_data"
    }
   ],
   "source": [
    "import matplotlib.lines as mlines\n",
    "import matplotlib.pyplot as plt\n",
    "\n",
    "df_hier_gp1[\"Method\"] = \"Hierachica-1l\"\n",
    "df_hier_gp2[\"Method\"] = \"Hierachical-2\"\n",
    "df_hier[\"Method\"] = \"Hierarchical\"\n",
    "df_flat[\"Method\"] = \"Non-Hierarchical\"\n",
    "\n",
    "df_res =  pd.concat([df_hier, df_flat])\n",
    "plt.figure(figsize=(10,6)) \n",
    "plot = sns.lineplot(x='speedup', y='e2e', hue='Method', data=df_res, errorbar='ci', marker='o')\n",
    "\n",
    "hflops_constant = df_hflop[\"e2e\"].mean()\n",
    "plt.axhline(y=hflops_constant, color=\"r\")\n",
    "\n",
    "# Make a legend for the meaning of the line color.\n",
    "red_line = mlines.Line2D([], [], color='red', label='HFLOP')\n",
    "\n",
    "# Get the current legend\n",
    "leg = plot.legend_\n",
    "\n",
    "# Manually update the legend\n",
    "leg.get_lines().append(red_line)\n",
    "leg.get_texts().append(plt.text(0, 0, 'HFLOP'))\n",
    "\n",
    "# Update the legend with the custom legend\n",
    "plot.legend(handles=leg.legendHandles + [red_line])\n",
    "plt.title('')\n",
    "plt.xlabel('Compute Increase [%]')\n",
    "plt.ylabel('End-to-End Latency')\n",
    "\n",
    "plt.show()"
   ],
   "metadata": {
    "collapsed": false,
    "ExecuteTime": {
     "end_time": "2024-06-09T18:33:50.771818493Z",
     "start_time": "2024-06-09T18:33:49.174467742Z"
    }
   },
   "id": "eeba03dd5aef3f7e",
   "execution_count": 253
  }
 ],
 "metadata": {
  "kernelspec": {
   "display_name": "Python 3",
   "language": "python",
   "name": "python3"
  },
  "language_info": {
   "codemirror_mode": {
    "name": "ipython",
    "version": 2
   },
   "file_extension": ".py",
   "mimetype": "text/x-python",
   "name": "python",
   "nbconvert_exporter": "python",
   "pygments_lexer": "ipython2",
   "version": "2.7.6"
  }
 },
 "nbformat": 4,
 "nbformat_minor": 5
}
